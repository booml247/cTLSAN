{
 "cells": [
  {
   "cell_type": "code",
   "execution_count": 10,
   "id": "5475b0b9-0ced-4a2c-9e23-7d09e2f7af18",
   "metadata": {},
   "outputs": [],
   "source": [
    "import boto3\n",
    "import json\n",
    "import re\n",
    "import pandas as pd \n",
    "import os \n",
    "import io\n",
    "import pickle\n",
    "\n",
    "from llm_agent import generate_prompt, call_claude, call_llama\n",
    "from input import DataInputTest\n"
   ]
  },
  {
   "cell_type": "markdown",
   "id": "c4facd13-023b-4d0e-9d13-c7195b24b77a",
   "metadata": {},
   "source": [
    "## Example"
   ]
  },
  {
   "cell_type": "code",
   "execution_count": 2,
   "id": "c8723642-92e0-4b20-b850-73a2489f6e61",
   "metadata": {},
   "outputs": [
    {
     "name": "stdout",
     "output_type": "stream",
     "text": [
      "=== Prompt ===\n",
      "You are a smart recommendation assistant.\n",
      "\n",
      "Here is the customer's recent browsing history:\n",
      "1. Noise-cancelling wireless headphones with 30-hour battery life\n",
      "2. Bluetooth speaker with deep bass and waterproof design\n",
      "3. No description available.\n",
      "4. No description available.\n",
      "5. No description available.\n",
      "6. No description available.\n",
      "7. No description available.\n",
      "8. No description available.\n",
      "9. No description available.\n",
      "10. Smart home security camera with motion detection\n",
      "\n",
      "Now, we want to recommend **one** of the following two items:\n",
      "\n",
      "B1: Over-ear studio headphones with premium sound\n",
      "\n",
      "B2: High-fidelity bookshelf speakers with rich acoustic output\n",
      "\n",
      "Based on the customer's interest, which item would you recommend? Respond in the format:\n",
      "\n",
      "Recommendation: [B1 or B2]\n",
      "\n",
      "\n",
      "=== LLM Recommendation ===\n",
      "Recommendation: B1\n"
     ]
    }
   ],
   "source": [
    "   \n",
    "# === Example ===\n",
    "viewed_asin_list = [\"A1\", \"A2\", \"A3\", \"A4\", \"A5\", \"A6\", \"A7\", \"A8\", \"A9\", \"A10\"]\n",
    "asin_to_description = {\n",
    "    \"A1\": \"Noise-cancelling wireless headphones with 30-hour battery life\",\n",
    "    \"A2\": \"Bluetooth speaker with deep bass and waterproof design\",\n",
    "    \"A10\": \"Smart home security camera with motion detection\",\n",
    "    \"B1\": \"Over-ear studio headphones with premium sound\",\n",
    "    \"B2\": \"High-fidelity bookshelf speakers with rich acoustic output\"\n",
    "}\n",
    "candidate_asins = (\"B1\", \"B2\")\n",
    "\n",
    "prompt = generate_prompt(viewed_asin_list, asin_to_description, *candidate_asins)\n",
    "response = call_claude(prompt)\n",
    "# reponse = call_llama(prompt)\n",
    "\n",
    "print(\"=== Prompt ===\")\n",
    "print(prompt)\n",
    "print(\"\\n=== LLM Recommendation ===\")\n",
    "print(response)\n"
   ]
  },
  {
   "cell_type": "code",
   "execution_count": 3,
   "id": "1060339e-8b6b-4e23-a8fc-f38a5d104afd",
   "metadata": {},
   "outputs": [
    {
     "name": "stdout",
     "output_type": "stream",
     "text": [
      "Recommended option: B\n"
     ]
    }
   ],
   "source": [
    "match = re.search(r\"Recommendation:\\s*([AB])\", response)\n",
    "if match:\n",
    "    recommended_option = match.group(1)\n",
    "    print(f\"Recommended option: {recommended_option}\")\n",
    "else:\n",
    "    print(\"Could not find recommendation.\")"
   ]
  },
  {
   "cell_type": "markdown",
   "id": "0924c411-0ec4-4a49-bce5-b48cd5122d27",
   "metadata": {},
   "source": [
    "## LLM Recommendation"
   ]
  },
  {
   "cell_type": "code",
   "execution_count": 9,
   "id": "19258be3-ae76-4592-86f9-78bfdc06f60c",
   "metadata": {},
   "outputs": [
    {
     "name": "stdout",
     "output_type": "stream",
     "text": [
      "Loading data..\n"
     ]
    }
   ],
   "source": [
    "# Loading data\n",
    "print('Loading data..', flush=True)\n",
    "s3 = boto3.client('s3')\n",
    "bucket = 'search-page-template-datasets-devo'\n",
    "s3_key = 'playground/liangsiq/LLM/LLM_input_data/Digital_Music_dataset.pkl'\n",
    "buffer = io.BytesIO()\n",
    "\n",
    "# Download the pickle file into memory\n",
    "s3.download_fileobj(bucket, s3_key, buffer)\n",
    "buffer.seek(0)\n",
    "train_set = pickle.load(buffer)\n",
    "test_set = pickle.load(buffer)\n",
    "user_count, item_count, cate_count = pickle.load(buffer)\n",
    "item_cate_list = pickle.load(buffer)"
   ]
  },
  {
   "cell_type": "code",
   "execution_count": null,
   "id": "9a51aebe-2446-46f9-a25e-46607578b6ee",
   "metadata": {},
   "outputs": [],
   "source": [
    "# Example of making inference and perform evaluation on 100 samples\n",
    "record = pd.DataFrame({}, columns=['y', 'recommended'])\n",
    "\n",
    "for i, batch in DataInputTest(test_set, 1, 10):\n",
    "    if i > 100: \n",
    "        break\n",
    "    print(i)\n",
    "    u = batch[0]\n",
    "    u_cate= batch[12]\n",
    "    ri_emb= batch[1]\n",
    "    i= batch[2]\n",
    "    rj_emb = batch[3] \n",
    "    j = batch[4]\n",
    "    hist_r_emb= batch[5]\n",
    "    hist_i= batch[6]\n",
    "    hist_r_new_emb= batch[7]\n",
    "    hist_i_new= batch[8]\n",
    "    hist_t= batch[9]\n",
    "    sl= batch[10]\n",
    "    sl_new= batch[11]\n",
    "    \n",
    "    # Create the mapping\n",
    "    asin_to_description = dict(zip(hist_i.flatten().tolist(), hist_r_emb[0]))\n",
    "    asin_to_description[i[0]] = ri_emb \n",
    "    asin_to_description[j[0]] = rj_emb\n",
    "\n",
    "    candidate_asins = (i[0], j[0])\n",
    "    prompt = generate_prompt(hist_i.flatten().tolist(), asin_to_description, *candidate_asins)\n",
    "    response = call_claude(prompt)\n",
    "    # reponse = call_llama(prompt)\n",
    "    match = re.search(r\"Recommendation:\\s*(.*)\", response)\n",
    "    if match:\n",
    "        recommended_option = match.group(1)\n",
    "        print(f\"Recommended option: {recommended_option}\")\n",
    "    else:\n",
    "        print(\"Could not find recommendation.\")\n",
    "    record.loc[len(record)] = {'y': i[0], 'recommended': recommended_option}\n",
    "auc = record[record.y == record.recommended.astype(int)].shape[0]/record.shape[0]"
   ]
  },
  {
   "cell_type": "code",
   "execution_count": null,
   "id": "a6417c83-90bb-4020-9a3d-50fda7b53238",
   "metadata": {},
   "outputs": [],
   "source": []
  }
 ],
 "metadata": {
  "kernelspec": {
   "display_name": "Python 3 (ipykernel)",
   "language": "python",
   "name": "python3"
  },
  "language_info": {
   "codemirror_mode": {
    "name": "ipython",
    "version": 3
   },
   "file_extension": ".py",
   "mimetype": "text/x-python",
   "name": "python",
   "nbconvert_exporter": "python",
   "pygments_lexer": "ipython3",
   "version": "3.11.11"
  }
 },
 "nbformat": 4,
 "nbformat_minor": 5
}
